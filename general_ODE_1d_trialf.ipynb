{
 "cells": [
  {
   "cell_type": "markdown",
   "metadata": {},
   "source": [
    "# Artificial Neural Network for the solution of Ordinary Differential Equations"
   ]
  },
  {
   "cell_type": "markdown",
   "metadata": {},
   "source": [
    "The following code is the implementation of an Artificial Neural Network to solve ODE.\n",
    "\n",
    "A generic ODE can be written in the form:\n",
    "$$ f(t, x, x', x'', ...) = 0 $$\n",
    "where $t \\in [t_{min}, t_{max}]$\n",
    "with boundary conditions $x(t_0) = x_0$, ..."
   ]
  },
  {
   "cell_type": "markdown",
   "metadata": {},
   "source": [
    "An ANN can approximate any continuous function (Universal approzimation theorem), thus we use it to approximate $x(t)$ such that the ODE is satisfied in the interval defined above and with the corresponding boundary conditions.\n",
    "\n",
    "For our purpose, the ANN must have 1 input, 1 output and an arbitrary number of hidden layers and hidden neurons. For semplicity purposes, we use a shallow neural network (1 hidden layer) containing $H$ neurons. We will call it $N(t|\\theta)$ where $t$ is the input variable and $\\theta$ are the parameters to learn."
   ]
  },
  {
   "cell_type": "markdown",
   "metadata": {},
   "source": [
    "We define a Trial function so that the boundary conditions are perfectly satisfied, independently of the choice of the parameters of the neural network. The trial function is automatically implemented for different kinds of boundary conditions. \n",
    "\n",
    "For example, if the BC is $x(t_0) = x_0$, the trial function will assume the form of:\n",
    "$$\\hat{x(t)} = x_0 + (t-t_0)N(t|\\theta)$$"
   ]
  },
  {
   "cell_type": "markdown",
   "metadata": {},
   "source": [
    "The algorithm learns by minimizing the loss function changing the parameters $\\theta$ through classical gradient descent algorithms."
   ]
  },
  {
   "cell_type": "code",
   "execution_count": 1,
   "metadata": {},
   "outputs": [],
   "source": [
    "import torch\n",
    "from torch.autograd import Variable\n",
    "from torch.autograd import grad\n",
    "import torch.optim as optim\n",
    "from tqdm import tqdm\n",
    "import numpy as np\n",
    "\n",
    "import matplotlib.pyplot as plt\n",
    "%matplotlib inline"
   ]
  },
  {
   "cell_type": "markdown",
   "metadata": {},
   "source": [
    "In the file \"functions1d.py\" there are some ODE already implemented.\n",
    "\n",
    "Here we load:\n",
    "* the differential equation (function with input $t$, $x$ and derivatives of $x$) and its degree (int)\n",
    "* the interval that we want to consider (tuple)\n",
    "* the boundary conditions (set of tuple)\n",
    "* the real solution (if known) (function with 1 input, 1 output)"
   ]
  },
  {
   "cell_type": "code",
   "execution_count": 2,
   "metadata": {},
   "outputs": [],
   "source": [
    "import functions1d as fun\n",
    "\n",
    "which = 'p0'\n",
    "# options available: p0, p1, p2, p3, p3b, new\n",
    "\n",
    "diff_eq, degree = fun.diff_eq[which], fun.degree[which]\n",
    "real = fun.real[which]\n",
    "bc = fun.bc[which]\n",
    "t_min, t_max = fun.interval[which]\n",
    "\n",
    "#trial = fun.trial[which]"
   ]
  },
  {
   "cell_type": "markdown",
   "metadata": {},
   "source": [
    "#### General trial function \n",
    "The trial function here is defined automatically for the following boundary problems\n",
    "* $x(t_0)=x_0$\n",
    "* $x(t_0)=x_0$ and $x(t_1)=x_1$\n",
    "* $x(t_0)=x_0$ and $x'(t_1)=y_1$\n",
    "\n"
   ]
  },
  {
   "cell_type": "code",
   "execution_count": 3,
   "metadata": {},
   "outputs": [],
   "source": [
    "def trial(f, t, bc, a=True):\n",
    "    l = len(bc)\n",
    "    if l == 0:\n",
    "        return f(t)\n",
    "    elif l == 1:\n",
    "        return bc[0][1] + (t-bc[0][0])*f(t)\n",
    "    elif l == 2 and a==False:\n",
    "        return bc[0][1]*(t-bc[1][0])+(t-bc[0][0])*(t-bc[1][0])*f(t)+(t-bc[0][0])*bc[1][1]\n",
    "    elif l == 2 and a==True:\n",
    "        return bc[0][1]+(t-bc[1][0])**2*f(t)+(t-bc[0][0])*bc[1][1]\n",
    "    else:\n",
    "        print('error')\n",
    "        return np.nan"
   ]
  },
  {
   "cell_type": "code",
   "execution_count": 4,
   "metadata": {},
   "outputs": [],
   "source": [
    "D_in, H, D_out = 1, 10, 1 # number of input, of hidden neurons and output"
   ]
  },
  {
   "cell_type": "markdown",
   "metadata": {},
   "source": [
    "The following function is required to evaluate the function $f(t, x, x', ...)$. \n",
    "* given the value $t_i$, it firstly calculates the value of $\\hat x (t_i)$ using the trial function\n",
    "* then, the needed $x'$, $x''$, ... are calculated using the autograd algorithm, and they are stored in the array gx so that $gx[0]=x'$, $gx[1]=x''$, ...\n",
    "* $f(t, x, x', ...)$ is evaluated using the differential equation loaded before"
   ]
  },
  {
   "cell_type": "code",
   "execution_count": 5,
   "metadata": {},
   "outputs": [],
   "source": [
    "def f(t, nn):\n",
    "    x = trial(nn, t, bc)\n",
    "    \n",
    "    gx = []\n",
    "    gx.append(grad([x], [t], grad_outputs=torch.ones(t.shape), create_graph=True)[0])\n",
    "    for d in range(1, degree):\n",
    "        gx.append(grad(gx[d-1], [t], grad_outputs=torch.ones(t.shape), create_graph=True)[0])\n",
    "    z = diff_eq(t, x, gx)\n",
    "    return z"
   ]
  },
  {
   "cell_type": "markdown",
   "metadata": {},
   "source": [
    "### Training data: \n",
    "The training dataset is then created.\n",
    "Since this is an unsupervised approach (the exact values of the function are not required, but used just to calculated the performance of the whole algorithm), the dataset consist only on the selection of points in the given interval that we want to use to minimize the loss function."
   ]
  },
  {
   "cell_type": "markdown",
   "metadata": {},
   "source": [
    "We chose $n\\_train$ training points, equally spaced or randomly selected in the interval"
   ]
  },
  {
   "cell_type": "code",
   "execution_count": 6,
   "metadata": {},
   "outputs": [],
   "source": [
    "n_train = 15\n",
    "#t_train = Variable(torch.linspace(t_min, t_max, n_train).view(-1, 1), requires_grad=True)\n",
    "t_train = Variable(torch.rand((n_train, 1))*(t_max-t_min)+t_min, requires_grad=True)"
   ]
  },
  {
   "cell_type": "markdown",
   "metadata": {},
   "source": [
    "### Neural Network Architecture\n",
    "\n",
    "The NN is defined here:\n",
    "* seq is the architecture:\n",
    " * a Fully connected layer with D_in inputs and H outputs\n",
    " * a LogSigmoid (or Sigmoid, ReLu, ...) as the activation function\n",
    " * a Fully connected layer with H inputs and D_out outputs\n",
    "* criterion is the Loss function (MSE, L1, ...)\n",
    "* lr is the learning rate\n",
    "* optimizer is the method to perform the gradient descent (Adam, LBFGS, ...)\n",
    "* (scheduler is the method to change the learning rate)\n"
   ]
  },
  {
   "cell_type": "code",
   "execution_count": 7,
   "metadata": {},
   "outputs": [],
   "source": [
    "seq = torch.nn.Sequential(\n",
    "    torch.nn.Linear(D_in, H),\n",
    "    #torch.nn.ReLU(),\n",
    "    #torch.nn.Sigmoid(),\n",
    "    torch.nn.LogSigmoid(),\n",
    "    torch.nn.Linear(H, D_out)   \n",
    ")\n",
    "\n",
    "criterion = torch.nn.MSELoss(size_average=False)\n",
    "#criterion = torch.nn.L1Loss(size_average=False)\n",
    "\n",
    "lr = 1e-1\n",
    "#optimizer = optim.Adam(seq.parameters(), lr=lr)\n",
    "optimizer = optim.LBFGS(seq.parameters(), lr=lr)\n",
    "\n",
    "#scheduler = optim.lr_scheduler.StepLR(optimizer, step_size=100, gamma=0.1)"
   ]
  },
  {
   "cell_type": "markdown",
   "metadata": {},
   "source": [
    "### Training\n",
    "The number of epoch is selected and the training is performed.\n",
    "* the function $f(t, x, x', ...)$ is evaluated using the NN just created\n",
    "* then, the loss is calculated and the error is back propagated through the network\n",
    "* the closure function is needed only if the LBFGS optimizer is selected\n",
    "* (the scheduler change the learning rate)\n",
    "* the loss is saved and plotted"
   ]
  },
  {
   "cell_type": "code",
   "execution_count": 8,
   "metadata": {},
   "outputs": [
    {
     "name": "stderr",
     "output_type": "stream",
     "text": [
      "100%|██████████| 100/100 [00:02<00:00, 48.14it/s]\n"
     ]
    }
   ],
   "source": [
    "n_epoch = 100\n",
    "Loss = []\n",
    "par = np.zeros((n_epoch, 4))\n",
    "for t in tqdm(range(n_epoch)): \n",
    "    y = f(t_train, seq)\n",
    "    loss = criterion(y, torch.zeros(y.shape))\n",
    "    optimizer.zero_grad()\n",
    "    loss.backward()\n",
    "    #optimizer.step()\n",
    "    def closure():\n",
    "        y = f(t_train, seq)\n",
    "        loss = criterion(y, torch.zeros(y.shape))        \n",
    "        optimizer.zero_grad()\n",
    "        loss.backward()\n",
    "        return loss\n",
    "    optimizer.step(closure)\n",
    "    #scheduler.step()\n",
    "    Loss.append(loss.data.numpy())\n",
    "    if np.isnan(loss.data.numpy()):\n",
    "        break\n"
   ]
  },
  {
   "cell_type": "code",
   "execution_count": 9,
   "metadata": {
    "scrolled": true
   },
   "outputs": [
    {
     "data": {
      "image/png": "[encoded data removed]",
      "text/plain": [
       "<Figure size 1080x288 with 1 Axes>"
      ]
     },
     "metadata": {},
     "output_type": "display_data"
    }
   ],
   "source": [
    "plt.figure(figsize=(15, 4))\n",
    "plt.plot(Loss)\n",
    "plt.yscale('log')\n",
    "plt.show()"
   ]
  },
  {
   "cell_type": "markdown",
   "metadata": {},
   "source": [
    "### Test data:\n",
    "The training dataset is created selecting $n\\_test$ points in the interval chosen above, equally spaced or randomly chosen"
   ]
  },
  {
   "cell_type": "code",
   "execution_count": 10,
   "metadata": {},
   "outputs": [],
   "source": [
    "n_test = 100\n",
    "#t_test = Variable(torch.linspace(t_min, t_max, n_test).view(-1, 1), requires_grad=True)\n",
    "t_test = Variable(torch.sort(torch.rand((n_test, 1))*(t_max-t_min)+t_min, dim=0)[0], requires_grad=True)"
   ]
  },
  {
   "cell_type": "markdown",
   "metadata": {},
   "source": [
    "The values of $x(t)$, the function that we have learn, and $\\hat x (t)$, the function that we learned, are calculated and plotted "
   ]
  },
  {
   "cell_type": "code",
   "execution_count": 11,
   "metadata": {},
   "outputs": [],
   "source": [
    "x_real = real(t_test)\n",
    "x_pred = trial(seq, t_test, bc)\n",
    "\n",
    "x_real_train = real(t_train)\n",
    "x_pred_train = trial(seq, t_train, bc)"
   ]
  },
  {
   "cell_type": "code",
   "execution_count": 12,
   "metadata": {
    "scrolled": true
   },
   "outputs": [
    {
     "data": {
      "image/png": "[encoded data removed]",
      "text/plain": [
       "<Figure size 432x288 with 1 Axes>"
      ]
     },
     "metadata": {},
     "output_type": "display_data"
    }
   ],
   "source": [
    "plt.plot(t_test.data.numpy(), x_pred.data.numpy(), label='predicted', c='r')\n",
    "plt.plot(t_test.data.numpy(), x_real.data.numpy(), label='true', c='b')\n",
    "plt.scatter(t_train.data.numpy(), x_real_train.data.numpy(), label='train', c='k', s=20)\n",
    "plt.legend(loc='best')\n",
    "plt.xlabel('t')\n",
    "plt.ylabel('x')\n",
    "plt.show()"
   ]
  },
  {
   "cell_type": "markdown",
   "metadata": {},
   "source": [
    "### Error:\n",
    "To evaluate the performance, the error is calculated in the following way:\n",
    "$$error = |x(t) - \\hat x (t)|$$"
   ]
  },
  {
   "cell_type": "code",
   "execution_count": 13,
   "metadata": {},
   "outputs": [],
   "source": [
    "error = abs(x_real-x_pred)\n",
    "error_train = abs(x_real_train-x_pred_train)"
   ]
  },
  {
   "cell_type": "code",
   "execution_count": 16,
   "metadata": {},
   "outputs": [
    {
     "data": {
      "image/png": "[encoded data removed]",
      "text/plain": [
       "<Figure size 432x288 with 1 Axes>"
      ]
     },
     "metadata": {},
     "output_type": "display_data"
    }
   ],
   "source": [
    "plt.plot(t_test.data.numpy(), error.data.numpy())\n",
    "plt.scatter(t_train.data.numpy(), error_train.data.numpy(), c='k', s=50)\n",
    "plt.show()"
   ]
  },
  {
   "cell_type": "markdown",
   "metadata": {},
   "source": [
    "The total error is calculated as the mean of the errors in the test dataset:\n"
   ]
  },
  {
   "cell_type": "code",
   "execution_count": 17,
   "metadata": {},
   "outputs": [
    {
     "name": "stdout",
     "output_type": "stream",
     "text": [
      "tensor(1.00000e-04 *\n",
      "       1.3850)\n"
     ]
    }
   ],
   "source": [
    "Error = error.mean()\n",
    "print(Error)"
   ]
  },
  {
   "cell_type": "code",
   "execution_count": null,
   "metadata": {},
   "outputs": [],
   "source": []
  }
 ],
 "metadata": {
  "kernelspec": {
   "display_name": "Python 3",
   "language": "python",
   "name": "python3"
  },
  "language_info": {
   "codemirror_mode": {
    "name": "ipython",
    "version": 3
   },
   "file_extension": ".py",
   "mimetype": "text/x-python",
   "name": "python",
   "nbconvert_exporter": "python",
   "pygments_lexer": "ipython3",
   "version": "3.6.5"
  }
 },
 "nbformat": 4,
 "nbformat_minor": 2
}

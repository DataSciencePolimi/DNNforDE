{
 "cells": [
  {
   "cell_type": "code",
   "execution_count": 1,
   "metadata": {},
   "outputs": [],
   "source": [
    "import torch\n",
    "from torch.autograd import Variable\n",
    "from torch.autograd import grad\n",
    "import torch.optim as optim\n",
    "from tqdm import tqdm\n",
    "import numpy as np\n",
    "import functions1d as fun\n",
    "\n",
    "\n",
    "import matplotlib.pyplot as plt\n",
    "%matplotlib inline"
   ]
  },
  {
   "cell_type": "code",
   "execution_count": 2,
   "metadata": {},
   "outputs": [],
   "source": [
    "which = 'p3b'\n",
    "# options available: p0, p1, p2, p3, p3b"
   ]
  },
  {
   "cell_type": "markdown",
   "metadata": {},
   "source": [
    "### Differential equation: \n",
    "example: $\\frac{\\partial x}{\\partial t} = - \\lambda x$"
   ]
  },
  {
   "cell_type": "code",
   "execution_count": 3,
   "metadata": {},
   "outputs": [],
   "source": [
    "diff_eq = fun.diff_eq[which]\n",
    "degree = fun.degree[which]"
   ]
  },
  {
   "cell_type": "markdown",
   "metadata": {},
   "source": [
    "### Real function:\n",
    "example: $x(t) = e^{-\\lambda t}$"
   ]
  },
  {
   "cell_type": "code",
   "execution_count": 4,
   "metadata": {},
   "outputs": [],
   "source": [
    "real = fun.function[which]"
   ]
  },
  {
   "cell_type": "markdown",
   "metadata": {},
   "source": [
    "### Trial function:\n",
    "example: $\\hat{f(t)} = 1 + t * N(t)$\n",
    "\n",
    "where N(t) is a neural network with 1 input and 1 output and an arbitrary number of hidden layers and neurons"
   ]
  },
  {
   "cell_type": "code",
   "execution_count": 5,
   "metadata": {},
   "outputs": [],
   "source": [
    "trial = fun.trial[which]"
   ]
  },
  {
   "cell_type": "markdown",
   "metadata": {},
   "source": [
    "Function needed to perform the training"
   ]
  },
  {
   "cell_type": "code",
   "execution_count": 6,
   "metadata": {},
   "outputs": [],
   "source": [
    "def g(t, nn):\n",
    "    x = trial(nn, t)\n",
    "    gx = []\n",
    "    gradx, = grad([x], [t], grad_outputs=torch.ones(t.shape), create_graph=True)\n",
    "    gx.append(gradx)\n",
    "    if degree > 1:\n",
    "        grad2x, = grad([gradx], [t], grad_outputs=torch.ones(t.shape), create_graph=True)\n",
    "        gx.append(grad2x)\n",
    "    z = diff_eq(t, x, gx)\n",
    "    return z"
   ]
  },
  {
   "cell_type": "markdown",
   "metadata": {},
   "source": [
    "Define:\n",
    "* range of the function;\n",
    "* the number of training points;\n",
    "* neural network parameters (input, hidden neurons and output)"
   ]
  },
  {
   "cell_type": "code",
   "execution_count": 7,
   "metadata": {},
   "outputs": [],
   "source": [
    "x_min, x_max = fun.interval[which]\n",
    "n = 10\n",
    "step = (x_max - x_min) / n\n",
    "\n",
    "D_in, H, D_out = 1, 100, 1"
   ]
  },
  {
   "cell_type": "markdown",
   "metadata": {},
   "source": [
    "### Training data: \n",
    "(unsupervised, no labels)"
   ]
  },
  {
   "cell_type": "code",
   "execution_count": 8,
   "metadata": {},
   "outputs": [],
   "source": [
    "x = Variable(torch.arange(x_min, x_max, step).view(-1, 1), requires_grad=True)"
   ]
  },
  {
   "cell_type": "markdown",
   "metadata": {},
   "source": [
    "Define: \n",
    "* the neural network architecture (1 hiddel layer, fully connected, LogSigmoid as activation)\n",
    "* the loss function (MSE, L1, ...)\n",
    "* the optimizer (Adam, LBFGS, ...)\n",
    "* the scheduler to change the learning rate"
   ]
  },
  {
   "cell_type": "code",
   "execution_count": 9,
   "metadata": {},
   "outputs": [],
   "source": [
    "seq = torch.nn.Sequential(\n",
    "    torch.nn.Linear(D_in, H),\n",
    "    #torch.nn.ReLU(),\n",
    "    torch.nn.LogSigmoid(),\n",
    "    torch.nn.Linear(H, D_out)   \n",
    ")\n",
    "\n",
    "criterion = torch.nn.MSELoss(size_average=False)\n",
    "#criterion = torch.nn.L1Loss(size_average=False)\n",
    "\n",
    "\n",
    "#optimizer = optim.Adam(seq.parameters(), lr=1e-1)\n",
    "optimizer = optim.LBFGS(seq.parameters(), lr=1e-1)\n",
    "#scheduler = optim.lr_scheduler.StepLR(optimizer, step_size=100, gamma=0.1)"
   ]
  },
  {
   "cell_type": "markdown",
   "metadata": {},
   "source": [
    "### Train the network"
   ]
  },
  {
   "cell_type": "code",
   "execution_count": 10,
   "metadata": {},
   "outputs": [
    {
     "name": "stderr",
     "output_type": "stream",
     "text": [
      "100%|██████████| 1000/1000 [00:08<00:00, 118.90it/s]\n"
     ]
    }
   ],
   "source": [
    "n_epoch = 1000\n",
    "Loss = []\n",
    "for t in tqdm(range(n_epoch)): \n",
    "    y = g(x, seq)\n",
    "    loss = criterion(y, torch.zeros(y.shape))\n",
    "    optimizer.zero_grad()\n",
    "    loss.backward()\n",
    "    #optimizer.step()\n",
    "    def closure():\n",
    "        y = g(x, seq)\n",
    "        loss = criterion(y, torch.zeros(y.shape))        \n",
    "        optimizer.zero_grad()\n",
    "        loss.backward()\n",
    "        return loss\n",
    "    optimizer.step(closure)\n",
    "    #scheduler.step()\n",
    "    Loss.append(loss.data.numpy())"
   ]
  },
  {
   "cell_type": "code",
   "execution_count": 11,
   "metadata": {
    "scrolled": true
   },
   "outputs": [
    {
     "data": {
      "image/png": "[encoded data removed]",
      "text/plain": [
       "<Figure size 1080x288 with 1 Axes>"
      ]
     },
     "metadata": {},
     "output_type": "display_data"
    }
   ],
   "source": [
    "plt.figure(figsize=(15, 4))\n",
    "plt.plot(Loss)\n",
    "plt.yscale('log')\n",
    "plt.show()"
   ]
  },
  {
   "cell_type": "markdown",
   "metadata": {},
   "source": [
    "### Test data:"
   ]
  },
  {
   "cell_type": "code",
   "execution_count": 12,
   "metadata": {},
   "outputs": [],
   "source": [
    "x_test = Variable(torch.arange(x_min, x_max, 0.001).view(-1, 1)*2, requires_grad=True)\n",
    "y_pred = trial(seq, x_test)\n",
    "y_real = real(x_test)"
   ]
  },
  {
   "cell_type": "code",
   "execution_count": 13,
   "metadata": {
    "scrolled": true
   },
   "outputs": [
    {
     "data": {
      "image/png": "[encoded data removed]",
      "text/plain": [
       "<Figure size 432x288 with 1 Axes>"
      ]
     },
     "metadata": {},
     "output_type": "display_data"
    }
   ],
   "source": [
    "plt.plot(x_test.data.numpy(), y_pred.data.numpy(), label='pred')\n",
    "plt.plot(x_test.data.numpy(), y_real.data.numpy(), label='true')\n",
    "plt.legend(loc='best')\n",
    "plt.show()"
   ]
  },
  {
   "cell_type": "markdown",
   "metadata": {},
   "source": [
    "### Error:\n",
    "$$error = |y_{real} - y_{predicted}|$$"
   ]
  },
  {
   "cell_type": "code",
   "execution_count": 14,
   "metadata": {},
   "outputs": [],
   "source": [
    "diff = abs(y_real-y_pred)"
   ]
  },
  {
   "cell_type": "code",
   "execution_count": 15,
   "metadata": {},
   "outputs": [
    {
     "data": {
      "image/png": "[encoded data removed]",
      "text/plain": [
       "<Figure size 432x288 with 1 Axes>"
      ]
     },
     "metadata": {},
     "output_type": "display_data"
    }
   ],
   "source": [
    "plt.plot(x_test.data.numpy(), diff.data.numpy())\n",
    "plt.show()"
   ]
  },
  {
   "cell_type": "code",
   "execution_count": null,
   "metadata": {},
   "outputs": [],
   "source": []
  },
  {
   "cell_type": "code",
   "execution_count": null,
   "metadata": {},
   "outputs": [],
   "source": []
  }
 ],
 "metadata": {
  "kernelspec": {
   "display_name": "Python 3",
   "language": "python",
   "name": "python3"
  },
  "language_info": {
   "codemirror_mode": {
    "name": "ipython",
    "version": 3
   },
   "file_extension": ".py",
   "mimetype": "text/x-python",
   "name": "python",
   "nbconvert_exporter": "python",
   "pygments_lexer": "ipython3",
   "version": "3.6.5"
  }
 },
 "nbformat": 4,
 "nbformat_minor": 2
}
